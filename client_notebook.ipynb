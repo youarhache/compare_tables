{
 "cells": [
  {
   "cell_type": "code",
   "execution_count": 10,
   "metadata": {},
   "outputs": [],
   "source": [
    "import numpy as np\n",
    "import pandas as pd\n",
    "from matplotlib import pyplot as plt\n",
    "from compare_tables import *\n",
    "\n",
    "%matplotlib inline\n",
    "# setting the plots background\n",
    "plt.rcParams['axes.facecolor'] = 'white'\n",
    "# setting float display precision\n",
    "pd.options.display.float_format = '{:,.4f}'.format"
   ]
  },
  {
   "cell_type": "markdown",
   "metadata": {},
   "source": [
    "## Setup"
   ]
  },
  {
   "cell_type": "markdown",
   "metadata": {},
   "source": [
    "**creating some data with missing values**"
   ]
  },
  {
   "cell_type": "code",
   "execution_count": 11,
   "metadata": {},
   "outputs": [
    {
     "data": {
      "text/html": [
       "<div>\n",
       "<style scoped>\n",
       "    .dataframe tbody tr th:only-of-type {\n",
       "        vertical-align: middle;\n",
       "    }\n",
       "\n",
       "    .dataframe tbody tr th {\n",
       "        vertical-align: top;\n",
       "    }\n",
       "\n",
       "    .dataframe thead th {\n",
       "        text-align: right;\n",
       "    }\n",
       "</style>\n",
       "<table border=\"1\" class=\"dataframe\">\n",
       "  <thead>\n",
       "    <tr style=\"text-align: right;\">\n",
       "      <th></th>\n",
       "      <th>A</th>\n",
       "      <th>B</th>\n",
       "      <th>C</th>\n",
       "      <th>D</th>\n",
       "    </tr>\n",
       "  </thead>\n",
       "  <tbody>\n",
       "    <tr>\n",
       "      <th>x5myUBm1l4</th>\n",
       "      <td>NaN</td>\n",
       "      <td>0.1821</td>\n",
       "      <td>0.1287</td>\n",
       "      <td>-2.1423</td>\n",
       "    </tr>\n",
       "    <tr>\n",
       "      <th>vdpV94F7Vm</th>\n",
       "      <td>0.1942</td>\n",
       "      <td>1.1424</td>\n",
       "      <td>NaN</td>\n",
       "      <td>-0.2265</td>\n",
       "    </tr>\n",
       "    <tr>\n",
       "      <th>Hifku3y163</th>\n",
       "      <td>-1.1424</td>\n",
       "      <td>0.0333</td>\n",
       "      <td>-2.0033</td>\n",
       "      <td>-0.0322</td>\n",
       "    </tr>\n",
       "    <tr>\n",
       "      <th>kEC7N63bmt</th>\n",
       "      <td>1.6160</td>\n",
       "      <td>-0.7329</td>\n",
       "      <td>0.0062</td>\n",
       "      <td>-0.2365</td>\n",
       "    </tr>\n",
       "    <tr>\n",
       "      <th>Dnz3mIPLx3</th>\n",
       "      <td>0.3261</td>\n",
       "      <td>-0.7265</td>\n",
       "      <td>0.0017</td>\n",
       "      <td>1.0861</td>\n",
       "    </tr>\n",
       "  </tbody>\n",
       "</table>\n",
       "</div>"
      ],
      "text/plain": [
       "                 A       B       C       D\n",
       "x5myUBm1l4     NaN  0.1821  0.1287 -2.1423\n",
       "vdpV94F7Vm  0.1942  1.1424     NaN -0.2265\n",
       "Hifku3y163 -1.1424  0.0333 -2.0033 -0.0322\n",
       "kEC7N63bmt  1.6160 -0.7329  0.0062 -0.2365\n",
       "Dnz3mIPLx3  0.3261 -0.7265  0.0017  1.0861"
      ]
     },
     "execution_count": 11,
     "metadata": {},
     "output_type": "execute_result"
    }
   ],
   "source": [
    "original_data = pd.util.testing.makeMissingDataframe()\n",
    "original_data.head()"
   ]
  },
  {
   "cell_type": "markdown",
   "metadata": {},
   "source": [
    "**adding some noise to the original data**"
   ]
  },
  {
   "cell_type": "code",
   "execution_count": 12,
   "metadata": {},
   "outputs": [],
   "source": [
    "mu=0\n",
    "sigma= 0,1\n",
    "poisson_noise = np.random.poisson(lam=0.1,size=original_data.shape)"
   ]
  },
  {
   "cell_type": "code",
   "execution_count": 13,
   "metadata": {},
   "outputs": [],
   "source": [
    "data_with_errors = original_data.copy() + poisson_noise\n",
    "\n",
    "# adding a recurrent difference\n",
    "original_data.iloc[0, 3] = 0\n",
    "data_with_errors.iloc[0, 3] = np.nan\n",
    "original_data.iloc[14, 3] = 0\n",
    "data_with_errors.iloc[14, 3] = np.nan"
   ]
  },
  {
   "cell_type": "markdown",
   "metadata": {},
   "source": [
    "## Use"
   ]
  },
  {
   "cell_type": "markdown",
   "metadata": {},
   "source": [
    "**computing differences**"
   ]
  },
  {
   "cell_type": "code",
   "execution_count": 19,
   "metadata": {},
   "outputs": [],
   "source": [
    "differences = compare_strictly(original_data, data_with_errors)"
   ]
  },
  {
   "cell_type": "markdown",
   "metadata": {},
   "source": [
    "**getting column differences %**"
   ]
  },
  {
   "cell_type": "code",
   "execution_count": 20,
   "metadata": {},
   "outputs": [
    {
     "data": {
      "text/html": [
       "<div>\n",
       "<style scoped>\n",
       "    .dataframe tbody tr th:only-of-type {\n",
       "        vertical-align: middle;\n",
       "    }\n",
       "\n",
       "    .dataframe tbody tr th {\n",
       "        vertical-align: top;\n",
       "    }\n",
       "\n",
       "    .dataframe thead th {\n",
       "        text-align: right;\n",
       "    }\n",
       "</style>\n",
       "<table border=\"1\" class=\"dataframe\">\n",
       "  <thead>\n",
       "    <tr style=\"text-align: right;\">\n",
       "      <th></th>\n",
       "      <th>Column name</th>\n",
       "      <th>Column type</th>\n",
       "      <th>% of difference</th>\n",
       "    </tr>\n",
       "  </thead>\n",
       "  <tbody>\n",
       "    <tr>\n",
       "      <th>A</th>\n",
       "      <td>A</td>\n",
       "      <td>float64</td>\n",
       "      <td>6.6667</td>\n",
       "    </tr>\n",
       "    <tr>\n",
       "      <th>B</th>\n",
       "      <td>B</td>\n",
       "      <td>float64</td>\n",
       "      <td>13.3333</td>\n",
       "    </tr>\n",
       "    <tr>\n",
       "      <th>C</th>\n",
       "      <td>C</td>\n",
       "      <td>float64</td>\n",
       "      <td>6.6667</td>\n",
       "    </tr>\n",
       "    <tr>\n",
       "      <th>D</th>\n",
       "      <td>D</td>\n",
       "      <td>float64</td>\n",
       "      <td>10.0000</td>\n",
       "    </tr>\n",
       "  </tbody>\n",
       "</table>\n",
       "</div>"
      ],
      "text/plain": [
       "  Column name Column type  % of difference\n",
       "A           A     float64           6.6667\n",
       "B           B     float64          13.3333\n",
       "C           C     float64           6.6667\n",
       "D           D     float64          10.0000"
      ]
     },
     "metadata": {},
     "output_type": "display_data"
    },
    {
     "data": {
      "image/png": "[encoded data removed]",
      "text/plain": [
       "<Figure size 576x360 with 1 Axes>"
      ]
     },
     "metadata": {},
     "output_type": "display_data"
    }
   ],
   "source": [
    "diff_percentages = get_column_difference_percentages(differences, original_data.dtypes)\n",
    "\n",
    "display(diff_percentages)\n",
    "\n",
    "# plotting\n",
    "my_circle = plt.Circle( (0,0), 0.6, color='white')\n",
    "\n",
    "diff_percentages.plot(kind=\"pie\", \n",
    "        y=\"% of difference\", \n",
    "        labels=diff_percentages[\"Column name\"] + \": \" + diff_percentages[\"% of difference\"].map(\"{:,.2f}%\".format), \n",
    "        title=\"Pourcentage de differences trouvées par colonne\",\n",
    "        wedgeprops = { 'linewidth' : 7, 'edgecolor' : 'white' },\n",
    "        figsize=(8, 5),\n",
    "        legend=False,\n",
    "        ylabel=\"\"\n",
    "                    )\n",
    "p = plt.gcf()\n",
    "p.gca().add_artist(my_circle)\n",
    "p.set_facecolor('white')\n",
    "plt.show()"
   ]
  },
  {
   "cell_type": "markdown",
   "metadata": {},
   "source": [
    "**getting rows with most number of differences**"
   ]
  },
  {
   "cell_type": "code",
   "execution_count": 16,
   "metadata": {},
   "outputs": [
    {
     "data": {
      "text/html": [
       "<div>\n",
       "<style scoped>\n",
       "    .dataframe tbody tr th:only-of-type {\n",
       "        vertical-align: middle;\n",
       "    }\n",
       "\n",
       "    .dataframe tbody tr th {\n",
       "        vertical-align: top;\n",
       "    }\n",
       "\n",
       "    .dataframe thead th {\n",
       "        text-align: right;\n",
       "    }\n",
       "</style>\n",
       "<table border=\"1\" class=\"dataframe\">\n",
       "  <thead>\n",
       "    <tr style=\"text-align: right;\">\n",
       "      <th></th>\n",
       "      <th>Number of differences</th>\n",
       "    </tr>\n",
       "  </thead>\n",
       "  <tbody>\n",
       "    <tr>\n",
       "      <th>x5myUBm1l4</th>\n",
       "      <td>3</td>\n",
       "    </tr>\n",
       "    <tr>\n",
       "      <th>xBTR9uEWh1</th>\n",
       "      <td>2</td>\n",
       "    </tr>\n",
       "    <tr>\n",
       "      <th>dPH0LDgsbn</th>\n",
       "      <td>1</td>\n",
       "    </tr>\n",
       "    <tr>\n",
       "      <th>hu03qvbiNl</th>\n",
       "      <td>1</td>\n",
       "    </tr>\n",
       "    <tr>\n",
       "      <th>3yTay9SMYU</th>\n",
       "      <td>1</td>\n",
       "    </tr>\n",
       "  </tbody>\n",
       "</table>\n",
       "</div>"
      ],
      "text/plain": [
       "            Number of differences\n",
       "x5myUBm1l4                      3\n",
       "xBTR9uEWh1                      2\n",
       "dPH0LDgsbn                      1\n",
       "hu03qvbiNl                      1\n",
       "3yTay9SMYU                      1"
      ]
     },
     "metadata": {},
     "output_type": "display_data"
    },
    {
     "data": {
      "image/png": "[encoded data removed]",
      "text/plain": [
       "<Figure size 432x288 with 1 Axes>"
      ]
     },
     "metadata": {
      "needs_background": "light"
     },
     "output_type": "display_data"
    }
   ],
   "source": [
    "df_row_diffs = get_number_differenes_per_row(differences, limit=5)\n",
    "\n",
    "display(df_row_diffs)\n",
    "\n",
    "df_row_diffs.plot(kind='bar', title= \"Lignes avec le plus de differences\", legend=False)\n",
    "plt.show()"
   ]
  },
  {
   "cell_type": "markdown",
   "metadata": {},
   "source": [
    "**Getting the actual values of the differences**"
   ]
  },
  {
   "cell_type": "code",
   "execution_count": 17,
   "metadata": {},
   "outputs": [
    {
     "data": {
      "text/html": [
       "<div>\n",
       "<style scoped>\n",
       "    .dataframe tbody tr th:only-of-type {\n",
       "        vertical-align: middle;\n",
       "    }\n",
       "\n",
       "    .dataframe tbody tr th {\n",
       "        vertical-align: top;\n",
       "    }\n",
       "\n",
       "    .dataframe thead th {\n",
       "        text-align: right;\n",
       "    }\n",
       "</style>\n",
       "<table border=\"1\" class=\"dataframe\">\n",
       "  <thead>\n",
       "    <tr style=\"text-align: right;\">\n",
       "      <th></th>\n",
       "      <th></th>\n",
       "      <th>from</th>\n",
       "      <th>to</th>\n",
       "    </tr>\n",
       "    <tr>\n",
       "      <th>id</th>\n",
       "      <th>column</th>\n",
       "      <th></th>\n",
       "      <th></th>\n",
       "    </tr>\n",
       "  </thead>\n",
       "  <tbody>\n",
       "    <tr>\n",
       "      <th rowspan=\"3\" valign=\"top\">x5myUBm1l4</th>\n",
       "      <th>B</th>\n",
       "      <td>0.1821</td>\n",
       "      <td>1.1821</td>\n",
       "    </tr>\n",
       "    <tr>\n",
       "      <th>C</th>\n",
       "      <td>0.1287</td>\n",
       "      <td>2.1287</td>\n",
       "    </tr>\n",
       "    <tr>\n",
       "      <th>D</th>\n",
       "      <td>0.0000</td>\n",
       "      <td>NaN</td>\n",
       "    </tr>\n",
       "    <tr>\n",
       "      <th>dPH0LDgsbn</th>\n",
       "      <th>C</th>\n",
       "      <td>-0.3748</td>\n",
       "      <td>0.6252</td>\n",
       "    </tr>\n",
       "    <tr>\n",
       "      <th rowspan=\"2\" valign=\"top\">xBTR9uEWh1</th>\n",
       "      <th>A</th>\n",
       "      <td>0.1513</td>\n",
       "      <td>1.1513</td>\n",
       "    </tr>\n",
       "    <tr>\n",
       "      <th>B</th>\n",
       "      <td>-0.0443</td>\n",
       "      <td>0.9557</td>\n",
       "    </tr>\n",
       "    <tr>\n",
       "      <th>myGR7yw8wA</th>\n",
       "      <th>B</th>\n",
       "      <td>-0.2566</td>\n",
       "      <td>0.7434</td>\n",
       "    </tr>\n",
       "    <tr>\n",
       "      <th>enpayLd4AH</th>\n",
       "      <th>D</th>\n",
       "      <td>0.0000</td>\n",
       "      <td>NaN</td>\n",
       "    </tr>\n",
       "    <tr>\n",
       "      <th>3yTay9SMYU</th>\n",
       "      <th>A</th>\n",
       "      <td>-0.0502</td>\n",
       "      <td>0.9498</td>\n",
       "    </tr>\n",
       "    <tr>\n",
       "      <th>hu03qvbiNl</th>\n",
       "      <th>D</th>\n",
       "      <td>-0.0548</td>\n",
       "      <td>0.9452</td>\n",
       "    </tr>\n",
       "    <tr>\n",
       "      <th>sD6hp5i4kU</th>\n",
       "      <th>B</th>\n",
       "      <td>-1.4416</td>\n",
       "      <td>-0.4416</td>\n",
       "    </tr>\n",
       "  </tbody>\n",
       "</table>\n",
       "</div>"
      ],
      "text/plain": [
       "                     from      to\n",
       "id         column                \n",
       "x5myUBm1l4 B       0.1821  1.1821\n",
       "           C       0.1287  2.1287\n",
       "           D       0.0000     NaN\n",
       "dPH0LDgsbn C      -0.3748  0.6252\n",
       "xBTR9uEWh1 A       0.1513  1.1513\n",
       "           B      -0.0443  0.9557\n",
       "myGR7yw8wA B      -0.2566  0.7434\n",
       "enpayLd4AH D       0.0000     NaN\n",
       "3yTay9SMYU A      -0.0502  0.9498\n",
       "hu03qvbiNl D      -0.0548  0.9452\n",
       "sD6hp5i4kU B      -1.4416 -0.4416"
      ]
     },
     "execution_count": 17,
     "metadata": {},
     "output_type": "execute_result"
    }
   ],
   "source": [
    "formatted_differences = get_formatted_different_values(original_data, data_with_errors, differences)\n",
    "formatted_differences"
   ]
  },
  {
   "cell_type": "markdown",
   "metadata": {},
   "source": [
    "**Common difference values**"
   ]
  },
  {
   "cell_type": "code",
   "execution_count": 22,
   "metadata": {},
   "outputs": [
    {
     "data": {
      "text/html": [
       "<div>\n",
       "<style scoped>\n",
       "    .dataframe tbody tr th:only-of-type {\n",
       "        vertical-align: middle;\n",
       "    }\n",
       "\n",
       "    .dataframe tbody tr th {\n",
       "        vertical-align: top;\n",
       "    }\n",
       "\n",
       "    .dataframe thead th {\n",
       "        text-align: right;\n",
       "    }\n",
       "</style>\n",
       "<table border=\"1\" class=\"dataframe\">\n",
       "  <thead>\n",
       "    <tr style=\"text-align: right;\">\n",
       "      <th></th>\n",
       "      <th></th>\n",
       "      <th></th>\n",
       "      <th>count</th>\n",
       "    </tr>\n",
       "    <tr>\n",
       "      <th>column</th>\n",
       "      <th>from</th>\n",
       "      <th>to</th>\n",
       "      <th></th>\n",
       "    </tr>\n",
       "  </thead>\n",
       "  <tbody>\n",
       "    <tr>\n",
       "      <th>D</th>\n",
       "      <th>0.0000</th>\n",
       "      <th>NaN</th>\n",
       "      <td>2</td>\n",
       "    </tr>\n",
       "    <tr>\n",
       "      <th rowspan=\"2\" valign=\"top\">A</th>\n",
       "      <th>-0.0502</th>\n",
       "      <th>0.9498</th>\n",
       "      <td>1</td>\n",
       "    </tr>\n",
       "    <tr>\n",
       "      <th>0.1513</th>\n",
       "      <th>1.1513</th>\n",
       "      <td>1</td>\n",
       "    </tr>\n",
       "    <tr>\n",
       "      <th rowspan=\"2\" valign=\"top\">B</th>\n",
       "      <th>-1.4416</th>\n",
       "      <th>-0.4416</th>\n",
       "      <td>1</td>\n",
       "    </tr>\n",
       "    <tr>\n",
       "      <th>-0.2566</th>\n",
       "      <th>0.7434</th>\n",
       "      <td>1</td>\n",
       "    </tr>\n",
       "  </tbody>\n",
       "</table>\n",
       "</div>"
      ],
      "text/plain": [
       "                        count\n",
       "column from    to            \n",
       "D      0.0000  NaN          2\n",
       "A      -0.0502 0.9498       1\n",
       "       0.1513  1.1513       1\n",
       "B      -1.4416 -0.4416      1\n",
       "       -0.2566 0.7434       1"
      ]
     },
     "metadata": {},
     "output_type": "display_data"
    },
    {
     "data": {
      "image/png": "[encoded data removed]",
      "text/plain": [
       "<Figure size 432x288 with 1 Axes>"
      ]
     },
     "metadata": {
      "needs_background": "light"
     },
     "output_type": "display_data"
    }
   ],
   "source": [
    "common_diffs = get_most_common_different_values_per_column(formatted_differences, limit=5)\n",
    "display(common_diffs)\n",
    "common_diffs.plot(kind=\"bar\", title=\"Les différences les plus recurrentes\")\n",
    "plt.show()"
   ]
  }
 ],
 "metadata": {
  "interpreter": {
   "hash": "1222102de31e8a32cfdd160d3b3c93b6263366e21c73acf49030cdf895e84469"
  },
  "kernelspec": {
   "display_name": "Python 3.10.4 ('compare-tables-env')",
   "language": "python",
   "name": "python3"
  },
  "language_info": {
   "codemirror_mode": {
    "name": "ipython",
    "version": 3
   },
   "file_extension": ".py",
   "mimetype": "text/x-python",
   "name": "python",
   "nbconvert_exporter": "python",
   "pygments_lexer": "ipython3",
   "version": "3.10.4"
  },
  "orig_nbformat": 4
 },
 "nbformat": 4,
 "nbformat_minor": 2
}
